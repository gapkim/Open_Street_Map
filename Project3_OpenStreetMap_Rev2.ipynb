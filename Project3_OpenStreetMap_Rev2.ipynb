{
 "cells": [
  {
   "cell_type": "markdown",
   "metadata": {},
   "source": [
    "# Project 3 Submission, Rev 2\n",
    "## Wrangle OpenStreetMap Data\n",
    "### Map Area\n",
    "Coppell, TX, United States\n",
    "* https://www.openstreetmap.org/export#map=12/32.9547/-97.0151\n",
    "\n",
    "This is an area that I am familiar with. I want to explore the database and see what information is available."
   ]
  },
  {
   "cell_type": "markdown",
   "metadata": {},
   "source": [
    "## Problems Encountered in the Map"
   ]
  },
  {
   "cell_type": "markdown",
   "metadata": {},
   "source": [
    "Using the code from the Udacity classroom (Get_sample_map.py), portions of map were investigated for problems by changing the k value.\n",
    "\n",
    "Upon inspecting the sample map data, following problems were noted:\n",
    "* Inconsistent street name endings (Blvd/Blvd./Boulevard, Rd/Rd./Road, Ave/Avenue, Dr/Drive, Pkwy/Parkway)\n",
    "* Inconsistent use of Hwy and Highway for street name values for k=\"addr:street\"\n",
    "* \"k\" values have problem character: \".\" (surface.material)\n",
    "* Confusing use of E/East, N/North, S/South, W/West when starting street name\n",
    "* Inconsistent \"v\" value formats for k=\"opening_hours\" (use of 24 hour time, AM/PM, etc.)\n",
    "* Inconsistent phone number formats were used in k=\"phone\" (mix of xxx-xxx-xxxx, (xxx)xxx-xxxx, +1-xxx...)\n",
    "* The values for k=\"addr:city\" included state informaton (e.g., Southlake, TX)\n",
    "* The values for k= \"addr:state\" had mix formats including two-letter abbreviation and full state name (e.g., \"TX\" and \"Texas\")"
   ]
  },
  {
   "cell_type": "markdown",
   "metadata": {},
   "source": [
    "## Auditing Data\n",
    "Each problem identified above has been audited in this section. Before going into each bullet point, number of values for different key types are caculated."
   ]
  },
  {
   "cell_type": "code",
   "execution_count": 216,
   "metadata": {
    "collapsed": false,
    "scrolled": true
   },
   "outputs": [
    {
     "name": "stdout",
     "output_type": "stream",
     "text": [
      "{'problemchars': 2, 'lower': 64763, 'other': 2820, 'lower_colon': 89131}\n"
     ]
    }
   ],
   "source": [
    "import xml.etree.cElementTree as ET\n",
    "import re\n",
    "\n",
    "OSM_PATH = \"map_Coppell_TX.osm\"  # Input map osm file\n",
    "\n",
    "# Definitions of key types and stree types\n",
    "LOWER = re.compile(r'^([a-z]|_)*$')\n",
    "LOWER_COLON = re.compile(r'^([a-z]|_)*:([a-z]|_)*$')\n",
    "PROBLEMCHARS = re.compile(r'[=\\+/&<>;\\'\"\\?%#$@\\,\\. \\t\\r\\n]')\n",
    "STREET_TYPE_RE = re.compile(r'\\b\\S+\\.?$', re.IGNORECASE)\n",
    "\n",
    "###\n",
    "### Helper function to just grab elements \"node\" and \"way\"\n",
    "###\n",
    "\n",
    "def get_element(osm_file, tags=('node', 'way', 'relation')):\n",
    "    \"\"\"Yield element if it is the right type of tag\"\"\"\n",
    "\n",
    "    context = ET.iterparse(osm_file, events=('start', 'end'))\n",
    "    _, root = next(context)\n",
    "    for event, elem in context:\n",
    "        if event == 'end' and elem.tag in tags:\n",
    "            yield elem\n",
    "            root.clear()\n",
    "\n",
    "###\n",
    "### Function to determine key types: lower, lower_colon, problemchars, other\n",
    "###\n",
    "\n",
    "def key_type(element, keys):\n",
    "    \n",
    "    for tag in element.iter('tag'):    \n",
    "        if LOWER.search(tag.attrib['k']):\n",
    "            keys['lower'] += 1\n",
    "        elif LOWER_COLON.search(tag.attrib['k']):\n",
    "            keys['lower_colon'] += 1\n",
    "        elif PROBLEMCHARS.search(tag.attrib['k']):\n",
    "            keys['problemchars'] += 1\n",
    "        else:\n",
    "            keys['other'] += 1     \n",
    "  \n",
    "    return keys\n",
    "\n",
    "# ================================================== #\n",
    "#                   Audit Data                       #\n",
    "# ================================================== #\n",
    "\n",
    "# Check how many values are in each key type.\n",
    "\n",
    "keys = {\"lower\": 0, \"lower_colon\": 0, \"problemchars\": 0, \"other\": 0}\n",
    "for element in get_element(OSM_PATH, tags=('node', 'way')):\n",
    "    keys = key_type(element, keys)\n",
    "    \n",
    "print keys"
   ]
  },
  {
   "cell_type": "markdown",
   "metadata": {},
   "source": [
    "### Each problem noted has been audited and updated as the following:\n",
    "* **Inconsistent street name endings (Blvd/Blvd./Boulevard, Rd/Rd./Road, Ave/Avenue, Dr/Drive, Pkwy/Parkway)**\n",
    " * All street names ending with abbreviation have been identified and updated with unabbreviated form.\n",
    "* **Inconsistent use of Hwy and Highway for street name values for k=\"addr:street\"**\n",
    " * All street names that contain word \"Hwy\" are replaced with \"Highway\""
   ]
  },
  {
   "cell_type": "markdown",
   "metadata": {},
   "source": [
    "Below are examples of street names updated by running the function update_name in the submitted python code:\n",
    "\n",
    "International Pkwy --> International Parkway  \n",
    "S. Kimball Ave --> S. Kimball Avenue  \n",
    "Glade Rd --> Glade Road  \n",
    "Regent Blvd --> Regent Boulevard  \n",
    "Hwy 121 --> Highway 121  \n",
    "State Hwy 121 Bypass --> State Highway 121 Bypass"
   ]
  },
  {
   "cell_type": "markdown",
   "metadata": {},
   "source": [
    "The update_name function utilizes lists and dictionaries the defines expected street name endings, mapping of abbreviated street names to their full name, and words mapping of words list that needs to be updated as below:"
   ]
  },
  {
   "cell_type": "code",
   "execution_count": 217,
   "metadata": {
    "collapsed": true
   },
   "outputs": [],
   "source": [
    "# Expected list for street name endings\n",
    "expected = [\"Street\", \"Avenue\", \"Boulevard\", \"Drive\", \"Court\", \"Place\", \"Square\", \"Lane\", \"Road\", \n",
    "            \"Trail\", \"Parkway\", \"Commons\", \"Loop\", \"Freeway\", \"Way\"]\n",
    "\n",
    "# Mapping to update the street names ending with abbreviation\n",
    "mapping = { \"Ave\": \"Avenue\",\n",
    "            \"Blvd\": \"Boulevard\",\n",
    "            \"Blvd.\": \"Boulevard\",\n",
    "            \"Dr\": \"Drive\",\n",
    "            \"Pkwy\": \"Parkway\",\n",
    "            \"Rd\": \"Road\",\n",
    "            \"Rd.\": \"Road\", \n",
    "            \"St\": \"Street\",\n",
    "            \"St.\": \"Street\"\n",
    "           }\n",
    "\n",
    "# List of words to update\n",
    "words_list = {'Hwy': 'Highway'}"
   ]
  },
  {
   "cell_type": "markdown",
   "metadata": {},
   "source": [
    "* **\"k\" values have problem character: \".\" (surface.material)**\n",
    " * \".\" character is replace with \"_\" since it is more consistent with how key values are defined.\n",
    "\n",
    "There are two instances, which have been update by running python funtion, update_kvalue, in the submitted code:\n",
    "\n",
    "surface.material --> surface_material"
   ]
  },
  {
   "cell_type": "markdown",
   "metadata": {},
   "source": [
    "* **Confusing use of E/East, N/North, S/South, W/West when starting street name**\n",
    " * All street names starting with E, W, N, S and S. have been fully spelled out\n",
    "\n",
    "Below are examples of street names updated by running the function, update_EWSN, in the submitted python code:\n",
    "\n",
    "N Josey Lane --> North Josey Lane  \n",
    "S. Kimball Ave --> South Kimball Ave  \n",
    "N Interstate 35E #207 --> North Interstate 35E #207\n",
    "S. Stemmons Freeway --> South Stemmons Freeway"
   ]
  },
  {
   "cell_type": "markdown",
   "metadata": {},
   "source": [
    "The function update_EWSN utilized regular expressions to search the stree names:"
   ]
  },
  {
   "cell_type": "code",
   "execution_count": 218,
   "metadata": {
    "collapsed": false
   },
   "outputs": [],
   "source": [
    "import re\n",
    "# Definitions for street names that start with E, W, N, S and S.\n",
    "START_EAST = re.compile(r'^E\\s')\n",
    "START_WEST = re.compile(r'^W\\s')\n",
    "START_SOUTH = re.compile(r'(^S\\s)|(^S.\\s)')\n",
    "START_NORTH = re.compile(r'^N\\s')"
   ]
  },
  {
   "cell_type": "markdown",
   "metadata": {},
   "source": [
    "* **Inconsistent \"v\" value formats for k=\"opening_hours\" (use of 24 hour time, AM/PM, etc.)**\n",
    "\n",
    "The values for this key was really messy with different formatting. There are several exceptions, but following formatting policy was enforced where applicable:\n",
    " * For daily open hours, i.e., data with \"Mo-Su\" notation, \"Mo-Su\" notation was dropped.\n",
    " * Replaced all values containing \";\" to \",\".\n",
    " * AM/PM times were converted to 24 hour format.\n",
    " * No space before and after \"-\" that indicates open hour time periods.\n",
    " * Consistantly used word \"closed\" for closed days instead mix of \"off\" and \"closed\".\n",
    "\n",
    "Examples of opening hours updated by running the python function, update_time, are:\n",
    "\n",
    "05:30 - 20:00 --> 05:30-20:00  \n",
    "10:00 AM - 9:00 PM --> 10:00-21:00 "
   ]
  },
  {
   "cell_type": "markdown",
   "metadata": {},
   "source": [
    "* **Inconsistent phone number formats were used in k=\"phone\". (mix of xxx-xxx-xxxx, (xxx)xxx-xxxx, +1-xxx...)**\n",
    " * There seems to be no standardized format for storing phone numbers in a database.\n",
    " * The country code was dropped. So, all \"+1\" were dropped.\n",
    " * All formats were stripped of separating characters like \"-\", \"()\" and space.\n",
    "\n",
    "Examples of opening hours updated by running the python function, update_phone, are:\n",
    "\n",
    "Main: (817) 310-5600 Catering: (817) 310-5610 --> Main:8173105600, Catering:8173105610  \n",
    "+1 972 869 0005 --> 9728690005  \n",
    "(972) 466-1917 --> 9724661917"
   ]
  },
  {
   "cell_type": "markdown",
   "metadata": {
    "collapsed": true
   },
   "source": [
    "* **The values for k=\"addr:city\" included state informaton (e.g., Southlake, TX)**\n",
    " * The state information has been removed from the values.\n",
    "* **The values for k= \"addr:state\" had mix formats including two-letter abbreviation and full state name (e.g., \"TX\" and \"Texas\")**\n",
    " * All full name states have been updated to two-letter state abbreviation formats.\n",
    "\n",
    "_There was one instance the city included state information:_  \n",
    "Southlake, TX --> Southlake\n",
    "\n",
    "All state name entries with \"Texas\" were converted to \"TX\"."
   ]
  },
  {
   "cell_type": "markdown",
   "metadata": {
    "collapsed": true
   },
   "source": [
    "## Import Cleaned Data to CSV File\n",
    "The audited and cleaned data have been imported to CSV file format using the submitted code: Project3_OpenStreetMap.py"
   ]
  },
  {
   "cell_type": "markdown",
   "metadata": {},
   "source": [
    "## Data Overview and Additional Thoughts\n",
    "This section contains basic information about the SQL dataset.\n",
    "### File sizes\n",
    "map_Coppell_TX.osm: 51,733 KB  \n",
    "Coppell_TX_Map.db: 29,167 KB  \n",
    "nodes.csv: 18,558 KB  \n",
    "nodes_tags.csv: 291 KB  \n",
    "ways.csv: 1,507 KB  \n",
    "ways_nodes.csv: 6,014 KB  \n",
    "ways_tags.csv: 5,092 KB\n",
    "\n",
    "### Number of nodes\n",
    "sqlite> select count(*) from nodes;  \n",
    "226304\n",
    "\n",
    "### Number of ways\n",
    "sqlite> select count(*) from ways;  \n",
    "25586\n",
    "\n",
    "### Number of unique users\n",
    "sqlite> select count(*)  \n",
    "   ...> from (select uid from nodes union select uid from ways) subs;  \n",
    "394\n",
    "\n",
    "### Top 10 contributing users\n",
    "sqlite> select user, count(*) as num  \n",
    "   ...> from (select user from nodes union all select user from ways) subs  \n",
    "   ...> group by user  \n",
    "   ...> order by num desc  \n",
    "   ...> limit 10;  \n",
    "woodpeck_fixbot|71476  \n",
    "Stephen Sprunk|40096  \n",
    "dwh1985|16031  \n",
    "Mara|8131  \n",
    "WernerP|7764  \n",
    "brianboru|6116  \n",
    "Zachy_P|5445  \n",
    "balrog-kun|4654  \n",
    "Dranuhl|4212  \n",
    "tyty5949|4139  "
   ]
  },
  {
   "cell_type": "code",
   "execution_count": 14,
   "metadata": {
    "collapsed": false
   },
   "outputs": [
    {
     "data": {
      "text/plain": [
       "<matplotlib.axes._subplots.AxesSubplot at 0xbd7ada0>"
      ]
     },
     "execution_count": 14,
     "metadata": {},
     "output_type": "execute_result"
    },
    {
     "data": {
      "image/png": "[encoded data removed]",
      "text/plain": [
       "<matplotlib.figure.Figure at 0xc87cdd8>"
      ]
     },
     "metadata": {},
     "output_type": "display_data"
    }
   ],
   "source": [
    "import sqlite3\n",
    "import pandas as pd\n",
    "import matplotlib.pyplot as plt\n",
    "\n",
    "%matplotlib inline\n",
    "\n",
    "db = sqlite3.connect(\"Coppell_TX_Map.db\")\n",
    "c = db.cursor()\n",
    "c.execute(\"select user, count(*) as num \\\n",
    "          from (select user from nodes union all select user from ways) subs \\\n",
    "          group by user \\\n",
    "          order by num desc \\\n",
    "          limit 10;\")\n",
    "result = c.fetchall()\n",
    "db.close()\n",
    "\n",
    "user_count_df = pd.DataFrame(result, columns=['User', 'Count'])\n",
    "user_count_df = user_count_df.set_index('User')\n",
    "\n",
    "user_count_df.plot.bar(title='Top 10 Contibuting Users')"
   ]
  },
  {
   "cell_type": "markdown",
   "metadata": {},
   "source": [
    "### Number of users appearing only once\n",
    "sqlite> select count(*)  \n",
    "   ...> from (  \n",
    "   ...> select sub.user, count(*) as num  \n",
    "   ...> from (select user from nodes union all select user from ways) sub  \n",
    "   ...> group by sub.user  \n",
    "   ...> having num = 1) sub1;  \n",
    "83\n",
    "\n",
    "* Of all the 251890 contributions from the users, the top three users account for 50.7%.\n",
    "* The top 10 user contributions account for 66.7%.\n",
    "\n",
    "### Additional thoughts and suggestions\n",
    "* The way open hour information provided is not consistent. The original data provided has various notations such as 24/7, Mo-Fr xx:xx-xx:xx, Su closed, etc. This makes it very difficult to search based on open hours. For example, if someone wants to search a coffee store that is open at 6 am, one cannot search efficiently in current database.\n",
    "* One suggestion is to create tables that stores open day and hour information as the following:  \n",
    "\n",
    "CREATE TABLE open_days(  \n",
    "    id INTEGER NOT NULL (references id of the NODE or WAY)  \n",
    "    Mo TEXT  (yes/no to indicate whether it is open that day)  \n",
    "    Tu TEXT  \n",
    "    ...)  \n",
    "\n",
    "CREATE TABLE open_hours(  \n",
    "    id INTEGER NOT NULL (references id of the NODE or WAY)  \n",
    "    day TEXT (references open days in TABLE open_days)  \n",
    "    00 TEXT (yes/no to indicate whether it is open between 00-01 am)  \n",
    "    01 TEXT (yes/no to indicate whether it is open between 01-02 am)  \n",
    "    ...)\n",
    "    \n",
    "It will take much work to convert the current informaton to such formats though. Even with the suggestion, store hours that only open and close on the hour will be accurate.\n",
    "* Another suggestion is to create a table linking the GPS coordinates with zipcodes and/or city. Currently, many data are missing when searching for values (e.g., coffee shops, restaurants, etc) in a particular city. There are 95 instances of place_of_worship in nodes_tags table. However, running the querry below to find out the place_of_worship by city only returned 2 instances.\n",
    "\n",
    "sqlite> select nodes_tags.value, count(*)  \n",
    "   ...> from nodes_tags,  \n",
    "   ...> (select nodes_tags.id from nodes_tags where nodes_tags.value='place_of_worship') sub  \n",
    "   ...> where nodes_tags.id = sub.id and nodes_tags.key='city';  \n",
    "Coppell|2"
   ]
  },
  {
   "cell_type": "markdown",
   "metadata": {
    "collapsed": true
   },
   "source": [
    "## Additional Data Exploration\n"
   ]
  },
  {
   "cell_type": "markdown",
   "metadata": {
    "collapsed": true
   },
   "source": [
    "### Top 5 most popular cuisine\n",
    "\n",
    "sqlite> select value, count(*)  \n",
    "   ...> from (select nodes_tags.value from nodes_tags where nodes_tags.key='cuisine' union all  \n",
    "   ...> select ways_tags.value from ways_tags where ways_tags.key='cuisine') sub  \n",
    "   ...> group by value  \n",
    "   ...> order by count(*) desc  \n",
    "   ...> limit 5;  \n",
    "burger|32  \n",
    "chicken|12  \n",
    "sandwich|11  \n",
    "pizza|10  \n",
    "mexican|8  "
   ]
  },
  {
   "cell_type": "code",
   "execution_count": 18,
   "metadata": {
    "collapsed": false,
    "scrolled": true
   },
   "outputs": [
    {
     "name": "stdout",
     "output_type": "stream",
     "text": [
      "          Percent\n",
      "Cuisine          \n",
      "burger         32\n",
      "chicken        12\n",
      "sandwich       11\n",
      "pizza          10\n",
      "mexican         8\n"
     ]
    },
    {
     "data": {
      "text/plain": [
       "<matplotlib.text.Text at 0xccb8940>"
      ]
     },
     "execution_count": 18,
     "metadata": {},
     "output_type": "execute_result"
    },
    {
     "data": {
      "image/png": "[encoded data removed]",
      "text/plain": [
       "<matplotlib.figure.Figure at 0xb436b00>"
      ]
     },
     "metadata": {},
     "output_type": "display_data"
    }
   ],
   "source": [
    "import sqlite3\n",
    "import pandas as pd\n",
    "import matplotlib.pyplot as plt\n",
    "\n",
    "%matplotlib inline\n",
    "\n",
    "db = sqlite3.connect(\"Coppell_TX_Map.db\")\n",
    "c = db.cursor()\n",
    "c.execute(\"select value, count(*) \\\n",
    "          from (select nodes_tags.value from nodes_tags where nodes_tags.key='cuisine' union all \\\n",
    "          select ways_tags.value from ways_tags where ways_tags.key='cuisine') sub \\\n",
    "          group by value \\\n",
    "          order by count(*) desc \\\n",
    "          limit 5;\")\n",
    "result = c.fetchall()\n",
    "db.close()\n",
    "\n",
    "cuisine_df = pd.DataFrame(result, columns=['Cuisine', 'Percent'])\n",
    "cuisine_df = cuisine_df.set_index('Cuisine')\n",
    "\n",
    "print cuisine_df\n",
    "\n",
    "cuisine_df.plot.pie(y = 'Percent', autopct='%.1f%%')\n",
    "plt.axis('equal')\n",
    "plt.title('Top 5 Most Popular Cuisines', y=1.05)"
   ]
  },
  {
   "cell_type": "markdown",
   "metadata": {
    "collapsed": true
   },
   "source": [
    "### Top 5 amenities\n",
    "\n",
    "sqlite> select value, count(*) as num  \n",
    "   ...> from nodes_tags  \n",
    "   ...> where key='amenity'  \n",
    "   ...> group by value  \n",
    "   ...> order by num desc  \n",
    "   ...> limit 5;  \n",
    "   \n",
    "place_of_worship|95  \n",
    "school|70  \n",
    "fast_food|55  \n",
    "restaurant|49  \n",
    "post_box|24\n",
    "\n",
    "It was quite surprising that place_of_worship came out at the top."
   ]
  },
  {
   "cell_type": "code",
   "execution_count": 24,
   "metadata": {
    "collapsed": false
   },
   "outputs": [
    {
     "data": {
      "text/plain": [
       "<matplotlib.text.Text at 0xdd06080>"
      ]
     },
     "execution_count": 24,
     "metadata": {},
     "output_type": "execute_result"
    },
    {
     "data": {
      "image/png": "[encoded data removed]",
      "text/plain": [
       "<matplotlib.figure.Figure at 0xdc65a58>"
      ]
     },
     "metadata": {},
     "output_type": "display_data"
    }
   ],
   "source": [
    "import sqlite3\n",
    "import pandas as pd\n",
    "import matplotlib.pyplot as plt\n",
    "import seaborn as sns\n",
    "\n",
    "%matplotlib inline\n",
    "\n",
    "def get_location(val):\n",
    "    \n",
    "    querry = \"select lat, lon \\\n",
    "        from nodes, nodes_tags \\\n",
    "        where nodes.id=nodes_tags.id and nodes_tags.key='amenity' and nodes_tags.value='{}';\".format(val)\n",
    "\n",
    "    db = sqlite3.connect(\"Coppell_TX_Map.db\")\n",
    "    c = db.cursor()\n",
    "    c.execute(querry)\n",
    "    location = c.fetchall()\n",
    "    db.close()\n",
    "    \n",
    "    return location\n",
    "\n",
    "def scatter_plot(val, c):\n",
    "    \n",
    "    df = pd.DataFrame(location_dict[val])\n",
    "    df.columns = ['Latitude', 'Longitude']\n",
    "    pp = df.plot.scatter(x='Longitude', y='Latitude', color=c, label=val, ax=ax)\n",
    "    \n",
    "    return pp\n",
    "\n",
    "list_of_val = ['place_of_worship', 'school', 'fast_food', 'restaurant', 'post_box']\n",
    "location_dict = {list_of_val[0]:'', list_of_val[1]:'', list_of_val[2]:'', list_of_val[3]:'', list_of_val[4]:''}\n",
    "\n",
    "for val in list_of_val:\n",
    "    location_dict[val] = get_location(val)\n",
    "    \n",
    "place_of_worship_df = pd.DataFrame(location_dict['place_of_worship'])\n",
    "place_of_worship_df.columns = ['Latitude', 'Longitude']\n",
    "ax = place_of_worship_df.plot.scatter(x='Longitude', y='Latitude', color='Red', label='place_of_worship')\n",
    "\n",
    "scatter_plot('school', 'Green')\n",
    "scatter_plot('fast_food', 'Orange')\n",
    "scatter_plot('restaurant', 'Blue')\n",
    "scatter_plot('post_box', 'Black')\n",
    "plt.title('Locations of Top 5 Amenities')"
   ]
  },
  {
   "cell_type": "markdown",
   "metadata": {},
   "source": [
    "### Use of reference materials\n",
    "I did not use any material other than information or codes from the Udacity lecture, and sample submission provided for SQL."
   ]
  }
 ],
 "metadata": {
  "anaconda-cloud": {},
  "kernelspec": {
   "display_name": "Python [Root]",
   "language": "python",
   "name": "Python [Root]"
  },
  "language_info": {
   "codemirror_mode": {
    "name": "ipython",
    "version": 2
   },
   "file_extension": ".py",
   "mimetype": "text/x-python",
   "name": "python",
   "nbconvert_exporter": "python",
   "pygments_lexer": "ipython2",
   "version": "2.7.12"
  }
 },
 "nbformat": 4,
 "nbformat_minor": 0
}
